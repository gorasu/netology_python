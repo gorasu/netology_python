{
 "cells": [
  {
   "cell_type": "code",
   "execution_count": 24,
   "metadata": {},
   "outputs": [
    {
     "data": {
      "text/plain": [
       "Name\n",
       "James     111798\n",
       "John      109593\n",
       "Robert    101373\n",
       "Name: Count, dtype: int64"
      ]
     },
     "execution_count": 24,
     "metadata": {},
     "output_type": "execute_result"
    }
   ],
   "source": [
    "import pandas as pd\n",
    "import os\n",
    "source_dir = os.path.join('.', 'names')\n",
    "\n",
    "\n",
    "def count_top3(years: list):\n",
    "    frames = []\n",
    "    for year in years:\n",
    "        file_name = os.path.join(source_dir, \"yob{}.txt\".format(year))\n",
    "        frames.append(pd.read_csv(file_name, names=['Name', 'Sex', 'Count']))\n",
    "    frames = pd.concat(frames)\n",
    "    result = frames.groupby(['Name'])['Count'].sum().sort_values(ascending=False)\n",
    "    return result[0:3]\n",
    "    \n",
    "    \n",
    "count_top3([1900, 1950, 2000])    "
   ]
  },
  {
   "cell_type": "code",
   "execution_count": 25,
   "metadata": {},
   "outputs": [
    {
     "name": "stdout",
     "output_type": "stream",
     "text": [
      "Name       Count\n",
      "John       9655     9655\n",
      "William    9532     9532\n",
      "Mary       7065     7065\n",
      "James      5927     5927\n",
      "Charles    5348     5348\n",
      "George     5126     5126\n",
      "Frank      3242     3242\n",
      "Joseph     2632     2632\n",
      "Anna       2604     2604\n",
      "Thomas     2534     2534\n",
      "Henry      2444     2444\n",
      "Robert     2415     2415\n",
      "Edward     2364     2364\n",
      "Harry      2152     2152\n",
      "Emma       2003     2003\n",
      "Elizabeth  1939     1939\n",
      "Walter     1755     1755\n",
      "Minnie     1746     1746\n",
      "Arthur     1599     1599\n",
      "Margaret   1578     1578\n",
      "Fred       1569     1569\n",
      "Albert     1493     1493\n",
      "Ida        1472     1472\n",
      "Alice      1414     1414\n",
      "Bertha     1320     1320\n",
      "Sarah      1288     1288\n",
      "Annie      1258     1258\n",
      "Clara      1226     1226\n",
      "Ella       1156     1156\n",
      "Florence   1063     1063\n",
      "                    ... \n",
      "Sibyl      5           5\n",
      "Unknown    5           5\n",
      "Knute      5           5\n",
      "Kit        5           5\n",
      "Omie       5           5\n",
      "Ula        5           5\n",
      "Kelly      5           5\n",
      "Eliseo     5           5\n",
      "Vann       5           5\n",
      "Vannie     5           5\n",
      "Lemma      5           5\n",
      "Layton     5           5\n",
      "Lella      5           5\n",
      "Hardie     5           5\n",
      "Birtha     5           5\n",
      "Blaine     5           5\n",
      "Harl       5           5\n",
      "Ely        5           5\n",
      "Elvina     5           5\n",
      "Boston     5           5\n",
      "Brad       5           5\n",
      "Bradford   5           5\n",
      "Bradley    5           5\n",
      "Brooks     5           5\n",
      "Buck       5           5\n",
      "Budd       5           5\n",
      "Bulah      5           5\n",
      "Ransom     5           5\n",
      "Elroy      5           5\n",
      "Jesse      5           5\n",
      "Name: Count, Length: 1997, dtype: int64\n"
     ]
    }
   ],
   "source": [
    "fr = pd.read_csv(\"names/yob1880.txt\", names=['Name', 'Sex', 'Count'])\n",
    "g = fr.groupby(['Name'])['Count'].sum().sort_values(ascending=False)\n",
    "g = fr.groupby(['Name','Count'])['Count'].sum().sort_values(ascending=False)\n",
    "\n",
    "print((g))"
   ]
  },
  {
   "cell_type": "code",
   "execution_count": 9,
   "metadata": {
    "scrolled": false
   },
   "outputs": [
    {
     "name": "stdout",
     "output_type": "stream",
     "text": [
      "            Name Sex  Count\n",
      "0           Emma   F  18809\n",
      "1       Isabella   F  18612\n",
      "2          Emily   F  17429\n",
      "3         Olivia   F  17078\n",
      "4            Ava   F  17035\n",
      "5        Madison   F  17027\n",
      "6         Sophia   F  16081\n",
      "7        Abigail   F  15081\n",
      "8      Elizabeth   F  12002\n",
      "9          Chloe   F  11824\n",
      "10      Samantha   F  11178\n",
      "11       Addison   F  10759\n",
      "12       Natalie   F  10199\n",
      "13           Mia   F  10168\n",
      "14        Alexis   F   9721\n",
      "15        Alyssa   F   9635\n",
      "16        Hannah   F   9560\n",
      "17        Ashley   F   9403\n",
      "18          Ella   F   9349\n",
      "19         Sarah   F   9042\n",
      "20         Grace   F   9035\n",
      "21        Taylor   F   8335\n",
      "22       Brianna   F   8258\n",
      "23          Lily   F   8119\n",
      "24        Hailey   F   7866\n",
      "25          Anna   F   7265\n",
      "26      Victoria   F   7118\n",
      "27         Kayla   F   6833\n",
      "28       Lillian   F   6808\n",
      "29        Lauren   F   6449\n",
      "...          ...  ..    ...\n",
      "35040    Zebulen   M      5\n",
      "35041  Zecheriah   M      5\n",
      "35042       Zeid   M      5\n",
      "35043   Zemarion   M      5\n",
      "35044    Zenaido   M      5\n",
      "35045      Zenas   M      5\n",
      "35046     Zennon   M      5\n",
      "35047     Zeplin   M      5\n",
      "35048     Zerick   M      5\n",
      "35049     Zethan   M      5\n",
      "35050      Zevon   M      5\n",
      "35051   Zildjian   M      5\n",
      "35052     Zimere   M      5\n",
      "35053      Ziven   M      5\n",
      "35054       Ziya   M      5\n",
      "35055     Ziyear   M      5\n",
      "35056       Zkye   M      5\n",
      "35057       Zoel   M      5\n",
      "35058       Zuko   M      5\n",
      "35059     Zurich   M      5\n",
      "35060         Zy   M      5\n",
      "35061      Zylar   M      5\n",
      "35062      Zylen   M      5\n",
      "35063      Zylin   M      5\n",
      "35064     Zymeir   M      5\n",
      "35065     Zymire   M      5\n",
      "35066  Zyquarius   M      5\n",
      "35067  Zyquavion   M      5\n",
      "35068     Zyrell   M      5\n",
      "35069      Zyren   M      5\n",
      "\n",
      "[35070 rows x 3 columns]\n"
     ]
    }
   ],
   "source": [
    "print(fr)"
   ]
  },
  {
   "cell_type": "code",
   "execution_count": 30,
   "metadata": {},
   "outputs": [
    {
     "name": "stdout",
     "output_type": "stream",
     "text": [
      "    B   D   F   B   D   F\n",
      "2  B2  D2  F2  B2  D2  F2\n",
      "3  B3  D3  F3  B3  D3  F3\n",
      "6  B6  D6  F6  B6  D6  F6\n",
      "7  B7  D7  F7  B7  D7  F7\n"
     ]
    }
   ],
   "source": [
    "df4 = pd.DataFrame({'B': ['B2', 'B3', 'B6', 'B7'],\n",
    "                      'D': ['D2', 'D3', 'D6', 'D7'],\n",
    "                     'F': ['F2', 'F3', 'F6', 'F7']},\n",
    "                    index=[2, 3, 6, 7])\n",
    "df1 = df4\n",
    "result = pd.concat([df1, df4], axis=1, join='inner')\n",
    "\n",
    "print(result)"
   ]
  },
  {
   "cell_type": "code",
   "execution_count": null,
   "metadata": {},
   "outputs": [],
   "source": []
  }
 ],
 "metadata": {
  "kernelspec": {
   "display_name": "Python 3",
   "language": "python",
   "name": "python3"
  },
  "language_info": {
   "codemirror_mode": {
    "name": "ipython",
    "version": 3
   },
   "file_extension": ".py",
   "mimetype": "text/x-python",
   "name": "python",
   "nbconvert_exporter": "python",
   "pygments_lexer": "ipython3",
   "version": "3.6.5"
  }
 },
 "nbformat": 4,
 "nbformat_minor": 2
}
